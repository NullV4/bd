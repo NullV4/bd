{
  "nbformat": 4,
  "nbformat_minor": 0,
  "metadata": {
    "colab": {
      "provenance": [],
      "authorship_tag": "ABX9TyMEKxZqDIMu1zJqBZHggH0h",
      "include_colab_link": true
    },
    "kernelspec": {
      "name": "python3",
      "display_name": "Python 3"
    },
    "language_info": {
      "name": "python"
    }
  },
  "cells": [
    {
      "cell_type": "markdown",
      "metadata": {
        "id": "view-in-github",
        "colab_type": "text"
      },
      "source": [
        "<a href=\"https://colab.research.google.com/github/NullV4/bd/blob/main/RDD.ipynb\" target=\"_parent\"><img src=\"https://colab.research.google.com/assets/colab-badge.svg\" alt=\"Open In Colab\"/></a>"
      ]
    },
    {
      "cell_type": "code",
      "execution_count": 2,
      "metadata": {
        "id": "omVFbbmDp3PP"
      },
      "outputs": [],
      "source": [
        "from pyspark import SparkContext"
      ]
    },
    {
      "cell_type": "code",
      "source": [
        "sc = SparkContext(\"local\", \"FinanceAnalysis\")"
      ],
      "metadata": {
        "id": "YRMA_BMRp_JQ"
      },
      "execution_count": 3,
      "outputs": []
    },
    {
      "cell_type": "code",
      "source": [
        "ventas_data = [\n",
        "    (\"Producto_A\", 10000, \"2024-01\"), (\"Producto_B\", 15000, \"2024-01\"), (\"Servicio_X\", 7000, \"2024-01\"),\n",
        "    (\"Producto_A\", 12000, \"2024-02\"), (\"Producto_B\", 16000, \"2024-02\"), (\"Servicio_X\", 8000, \"2024-02\"),\n",
        "    (\"Producto_A\", 14000, \"2024-03\"), (\"Producto_B\", 17000, \"2024-03\"), (\"Servicio_X\", 9000, \"2024-03\"),\n",
        "    (\"Producto_C\", 20000, \"2024-01\"), (\"Producto_C\", 21000, \"2024-02\"), (\"Producto_C\", 22000, \"2024-03\"),\n",
        "]\n",
        "\n",
        "ventas_rdd = sc.parallelize(ventas_data)\n"
      ],
      "metadata": {
        "id": "V6eJO9gbqTMD"
      },
      "execution_count": 4,
      "outputs": []
    },
    {
      "cell_type": "code",
      "source": [
        "costos_data = [\n",
        "    (\"Producto_A\", 4000), (\"Producto_B\", 6000), (\"Servicio_X\", 3000), (\"Producto_C\", 10000),\n",
        "    (\"Producto_A\", 4500), (\"Producto_B\", 6500), (\"Servicio_X\", 3500), (\"Producto_C\", 10500),\n",
        "    (\"Producto_A\", 5000), (\"Producto_B\", 7000), (\"Servicio_X\", 4000), (\"Producto_C\", 11000),\n",
        "]\n",
        "costos_rdd = sc.parallelize(costos_data)"
      ],
      "metadata": {
        "id": "xzTGqQH4qTpj"
      },
      "execution_count": 5,
      "outputs": []
    },
    {
      "cell_type": "code",
      "source": [
        "\n",
        "gastos_data = [\n",
        "    (\"Infraestructura\", 2000), (\"Tecnología\", 3000), (\"Marketing\", 1500), (\"Otros\", 1000),\n",
        "    (\"Infraestructura\", 2100), (\"Tecnología\", 3200), (\"Marketing\", 1600), (\"Otros\", 1100),\n",
        "    (\"Infraestructura\", 2200), (\"Tecnología\", 3300), (\"Marketing\", 1700), (\"Otros\", 1200),\n",
        "]\n",
        "gastos_rdd = sc.parallelize(gastos_data)"
      ],
      "metadata": {
        "id": "fMAKHbhdqTvV"
      },
      "execution_count": 6,
      "outputs": []
    },
    {
      "cell_type": "code",
      "source": [
        "flujo_data = [\n",
        "    (\"Ingresos\", 25000), (\"Egresos\", 18000), (\"Ingresos\", 27000), (\"Egresos\", 19000),\n",
        "    (\"Ingresos\", 28000), (\"Egresos\", 20000), (\"Ingresos\", 30000), (\"Egresos\", 21000),\n",
        "]\n",
        "flujo_rdd = sc.parallelize(flujo_data)"
      ],
      "metadata": {
        "id": "OuisGy3kqtHq"
      },
      "execution_count": 7,
      "outputs": []
    },
    {
      "cell_type": "code",
      "source": [
        "inversion_data = [\n",
        "    (\"Proyecto_NuevaTecnologia\", 10000), (\"Proyecto_DesarrolloProducto\", 15000),\n",
        "    (\"Proyecto_MejoraPlataforma\", 8000), (\"Proyecto_InvestigacionIA\", 12000),\n",
        "    (\"Proyecto_MejoraUIUX\", 6000), (\"Proyecto_ExpansionInfraestructura\", 14000),\n",
        "]\n",
        "\n",
        "inversion_rdd = sc.parallelize(inversion_data)"
      ],
      "metadata": {
        "id": "l38n9drhqxSS"
      },
      "execution_count": 8,
      "outputs": []
    },
    {
      "cell_type": "code",
      "source": [
        "ventas_totales = ventas_rdd.map(lambda x: (x[0], x[1])).reduceByKey(lambda x, y: x + y)\n",
        "print(\"Ventas Totales por Producto/Servicio:\", ventas_totales.collect())"
      ],
      "metadata": {
        "colab": {
          "base_uri": "https://localhost:8080/"
        },
        "id": "wPGBNHPLq0ks",
        "outputId": "ff5cde64-1cce-4f81-fa6c-09a73694da55"
      },
      "execution_count": 9,
      "outputs": [
        {
          "output_type": "stream",
          "name": "stdout",
          "text": [
            "Ventas Totales por Producto/Servicio: [('Producto_A', 36000), ('Producto_B', 48000), ('Servicio_X', 24000), ('Producto_C', 63000)]\n"
          ]
        }
      ]
    },
    {
      "cell_type": "code",
      "source": [
        "margen_rdd = ventas_rdd.map(lambda x: (x[0], x[1])).join(costos_rdd).mapValues(lambda x: x[0] - x[1])\n",
        "margen_total_por_producto = margen_rdd.reduceByKey(lambda x, y: x + y)\n",
        "print(\"Margen Total de Ganancia por Producto/Servicio:\", margen_total_por_producto.collect())"
      ],
      "metadata": {
        "colab": {
          "base_uri": "https://localhost:8080/"
        },
        "id": "NdjfuE2Bq0nj",
        "outputId": "c7678e98-e391-47df-e189-0705e87af382"
      },
      "execution_count": 10,
      "outputs": [
        {
          "output_type": "stream",
          "name": "stdout",
          "text": [
            "Margen Total de Ganancia por Producto/Servicio: [('Producto_B', 85500), ('Producto_A', 67500), ('Servicio_X', 40500), ('Producto_C', 94500)]\n"
          ]
        }
      ]
    },
    {
      "cell_type": "code",
      "source": [
        "flujo_total = flujo_rdd.reduceByKey(lambda x, y: x + y)\n",
        "print(\"Flujo de Caja:\", flujo_total.collect())"
      ],
      "metadata": {
        "colab": {
          "base_uri": "https://localhost:8080/"
        },
        "id": "yPHmjWPmq0qk",
        "outputId": "67b9c8a4-a928-4c62-d7fe-7b7ab3306476"
      },
      "execution_count": 11,
      "outputs": [
        {
          "output_type": "stream",
          "name": "stdout",
          "text": [
            "Flujo de Caja: [('Ingresos', 110000), ('Egresos', 78000)]\n"
          ]
        }
      ]
    },
    {
      "cell_type": "code",
      "source": [
        "inversion_total = inversion_rdd.map(lambda x: x[1]).sum()\n",
        "print(\"Inversión Total en Innovación:\", inversion_total)"
      ],
      "metadata": {
        "colab": {
          "base_uri": "https://localhost:8080/"
        },
        "id": "MzPx81z5q-PY",
        "outputId": "71b0debe-c23c-46b2-cde0-2522d6419bbd"
      },
      "execution_count": 12,
      "outputs": [
        {
          "output_type": "stream",
          "name": "stdout",
          "text": [
            "Inversión Total en Innovación: 65000\n"
          ]
        }
      ]
    },
    {
      "cell_type": "code",
      "source": [
        "gastos_totales = gastos_rdd.map(lambda x: x[1]).sum()\n",
        "print(\"Gastos Generales y Administrativos Totales:\", gastos_totales)"
      ],
      "metadata": {
        "colab": {
          "base_uri": "https://localhost:8080/"
        },
        "id": "KA3bxzLRq-Vm",
        "outputId": "37cd3007-895b-4a5f-97a4-5d65a10c98ad"
      },
      "execution_count": 13,
      "outputs": [
        {
          "output_type": "stream",
          "name": "stdout",
          "text": [
            "Gastos Generales y Administrativos Totales: 23900\n"
          ]
        }
      ]
    },
    {
      "cell_type": "code",
      "source": [
        "ventas_total_mensual = ventas_rdd.map(lambda x: x[1]).sum()\n",
        "ratio_inversion = inversion_total / ventas_total_mensual\n",
        "print(\"Ratio de Inversión en Innovación:\", ratio_inversion)"
      ],
      "metadata": {
        "colab": {
          "base_uri": "https://localhost:8080/"
        },
        "id": "dvftxYsVrClg",
        "outputId": "9c01f8f9-b128-4368-95ca-caa61a2cf687"
      },
      "execution_count": 14,
      "outputs": [
        {
          "output_type": "stream",
          "name": "stdout",
          "text": [
            "Ratio de Inversión en Innovación: 0.38011695906432746\n"
          ]
        }
      ]
    },
    {
      "cell_type": "code",
      "source": [
        "margen_promedio_por_producto = margen_total_por_producto.mapValues(lambda x: x / 3)  # Asumiendo 3 meses\n",
        "print(\"Margen Bruto Promedio por Producto:\", margen_promedio_por_producto.collect())"
      ],
      "metadata": {
        "colab": {
          "base_uri": "https://localhost:8080/"
        },
        "id": "16Aho85k0dG9",
        "outputId": "6f85e107-36df-4b54-ce8f-cca829484c67"
      },
      "execution_count": 15,
      "outputs": [
        {
          "output_type": "stream",
          "name": "stdout",
          "text": [
            "Margen Bruto Promedio por Producto: [('Producto_B', 28500.0), ('Producto_A', 22500.0), ('Servicio_X', 13500.0), ('Producto_C', 31500.0)]\n"
          ]
        }
      ]
    },
    {
      "cell_type": "code",
      "source": [
        "flujo_mensual = flujo_rdd.map(lambda x: (\"Ingresos\" if x[0] == \"Ingresos\" else \"Egresos\", x[1])).reduceByKey(lambda x, y: x + y)\n",
        "print(\"Total de Ingresos y Egresos:\", flujo_mensual.collect())"
      ],
      "metadata": {
        "colab": {
          "base_uri": "https://localhost:8080/"
        },
        "id": "WtYBoUlS0dZl",
        "outputId": "cca5be6f-dabe-40d6-99e0-f77b3c881b7e"
      },
      "execution_count": 16,
      "outputs": [
        {
          "output_type": "stream",
          "name": "stdout",
          "text": [
            "Total de Ingresos y Egresos: [('Ingresos', 110000), ('Egresos', 78000)]\n"
          ]
        }
      ]
    },
    {
      "cell_type": "code",
      "source": [
        "costos_promedio = costos_rdd.mapValues(lambda x: x / 3).reduceByKey(lambda x, y: x + y)  # Asumiendo 3 meses\n",
        "print(\"Costos Promedio por Producto:\", costos_promedio.collect())"
      ],
      "metadata": {
        "colab": {
          "base_uri": "https://localhost:8080/"
        },
        "id": "SfybbyGF0zWj",
        "outputId": "27ca41e1-55bf-4e14-d2c3-bee3ee5d1991"
      },
      "execution_count": 18,
      "outputs": [
        {
          "output_type": "stream",
          "name": "stdout",
          "text": [
            "Costos Promedio por Producto: [('Producto_A', 4500.0), ('Producto_B', 6500.0), ('Servicio_X', 3500.0), ('Producto_C', 10500.0)]\n"
          ]
        }
      ]
    },
    {
      "cell_type": "code",
      "source": [
        "ingresos_netos = flujo_total.filter(lambda x: x[0] == \"Ingresos\").map(lambda x: x[1]).sum() - flujo_total.filter(lambda x: x[0] == \"Egresos\").map(lambda x: x[1]).sum()\n",
        "print(\"Ingresos Netos Totales:\", ingresos_netos)"
      ],
      "metadata": {
        "colab": {
          "base_uri": "https://localhost:8080/"
        },
        "id": "KxSw6DKW0zhk",
        "outputId": "6cf6b81d-b852-4be0-c2ea-d6e19cedcc50"
      },
      "execution_count": 19,
      "outputs": [
        {
          "output_type": "stream",
          "name": "stdout",
          "text": [
            "Ingresos Netos Totales: 32000\n"
          ]
        }
      ]
    },
    {
      "cell_type": "code",
      "source": [
        "producto_max_margen = margen_total_por_producto.takeOrdered(1, key=lambda x: -x[1])\n",
        "print(\"Producto/Servicio con Mayor Margen de Ganancia:\", producto_max_margen)"
      ],
      "metadata": {
        "colab": {
          "base_uri": "https://localhost:8080/"
        },
        "id": "vDrYHqqq0z3b",
        "outputId": "a6388be5-e413-4cc6-9d03-f6d823ae1b02"
      },
      "execution_count": 20,
      "outputs": [
        {
          "output_type": "stream",
          "name": "stdout",
          "text": [
            "Producto/Servicio con Mayor Margen de Ganancia: [('Producto_C', 94500)]\n"
          ]
        }
      ]
    },
    {
      "cell_type": "code",
      "source": [
        "inversion_ordenada = inversion_rdd.sortBy(lambda x: x[1], ascending=False)\n",
        "print(\"Inversiones Ordenadas por Proyecto:\", inversion_ordenada.collect())"
      ],
      "metadata": {
        "colab": {
          "base_uri": "https://localhost:8080/"
        },
        "id": "0MC7_Lbm1LIa",
        "outputId": "6247152d-1591-4b47-beee-2f9e089327a2"
      },
      "execution_count": 21,
      "outputs": [
        {
          "output_type": "stream",
          "name": "stdout",
          "text": [
            "Inversiones Ordenadas por Proyecto: [('Proyecto_DesarrolloProducto', 15000), ('Proyecto_ExpansionInfraestructura', 14000), ('Proyecto_InvestigacionIA', 12000), ('Proyecto_NuevaTecnologia', 10000), ('Proyecto_MejoraPlataforma', 8000), ('Proyecto_MejoraUIUX', 6000)]\n"
          ]
        }
      ]
    },
    {
      "cell_type": "code",
      "source": [
        "total_gastos = gastos_rdd.map(lambda x: x[1]).sum()\n",
        "porcentaje_gastos = gastos_rdd.map(lambda x: (x[0], (x[1] / total_gastos) * 100))\n",
        "print(\"Porcentaje de Gastos por Categoría:\", porcentaje_gastos.collect())"
      ],
      "metadata": {
        "colab": {
          "base_uri": "https://localhost:8080/"
        },
        "id": "vsWBxDXd1LRJ",
        "outputId": "1b7fa178-5f15-4e1b-d469-6606927f39cf"
      },
      "execution_count": 22,
      "outputs": [
        {
          "output_type": "stream",
          "name": "stdout",
          "text": [
            "Porcentaje de Gastos por Categoría: [('Infraestructura', 8.368200836820083), ('Tecnología', 12.552301255230125), ('Marketing', 6.2761506276150625), ('Otros', 4.184100418410042), ('Infraestructura', 8.786610878661087), ('Tecnología', 13.389121338912133), ('Marketing', 6.694560669456067), ('Otros', 4.602510460251046), ('Infraestructura', 9.205020920502092), ('Tecnología', 13.807531380753138), ('Marketing', 7.112970711297072), ('Otros', 5.02092050209205)]\n"
          ]
        }
      ]
    }
  ]
}